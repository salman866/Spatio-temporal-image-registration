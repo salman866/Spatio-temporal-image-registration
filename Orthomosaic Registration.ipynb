{
 "cells": [
  {
   "cell_type": "markdown",
   "id": "eedb8ea4",
   "metadata": {},
   "source": [
    "## Required important packages"
   ]
  },
  {
   "cell_type": "code",
   "execution_count": 20,
   "id": "8524a1eb",
   "metadata": {},
   "outputs": [
    {
     "data": {
      "text/plain": [
       "<module 'GeoFeatures' from 'C:\\\\Users\\\\Administrator\\\\Documents\\\\Jupyter\\\\Image Registration\\\\GeoFeatures.py'>"
      ]
     },
     "execution_count": 20,
     "metadata": {},
     "output_type": "execute_result"
    }
   ],
   "source": [
    "# ! pip install segment-geospatial\n",
    "# ! conda install -c conda-forge gdal"
   ]
  },
  {
   "cell_type": "code",
   "execution_count": 27,
   "id": "f30b8d39",
   "metadata": {},
   "outputs": [],
   "source": [
    "import os\n",
    "# import leafmap\n",
    "import torch\n",
    "import rasterio\n",
    "import geopandas as gpd\n",
    "import numpy as np\n",
    "import json\n",
    "import fiona\n",
    "from samgeo.hq_sam import SamGeo\n",
    "import GeoUtils\n",
    "import GeoFeatures\n",
    "import SegmentPlots\n",
    "from shapely.geometry import Point\n",
    "import math\n",
    "import matplotlib.pyplot as plt"
   ]
  },
  {
   "cell_type": "markdown",
   "id": "00d9050a",
   "metadata": {},
   "source": [
    "## Used inputs"
   ]
  },
  {
   "cell_type": "code",
   "execution_count": 147,
   "id": "da18703c",
   "metadata": {},
   "outputs": [],
   "source": [
    "sam_model_path = os.path.join('File_path', 'SAM', 'sam_hq_vit_h.pth') # path containing SAM model weights\n",
    "\n",
    "folderName = 'Rice'# Master folder containing the reference and sensed images\n",
    "s1_FileName = '01-09-2023' # File name of image for epoch 1 (refrence image)\n",
    "s1_FolderPath = os.path.join(folderName, s1_FileName)\n",
    "s1_img_input = os.path.join(s1_FolderPath, s1_FileName + '.tif')\n",
    "\n",
    "s2_FileName = '08-09-2023' # File name of image for epoch 2 (sensed image)\n",
    "s2_FolderPath = os.path.join(folderName, s2_FileName)\n",
    "s2_img_input = os.path.join(s2_FolderPath, s2_FileName + '.tif')\n",
    "\n",
    "gcp_template_file_path = os.path.join(folderName, 'Results', 'points.txt') # Path for the template to store the GCPs points in QGIS compliant format\n",
    "gcp_out_file = os.path.join(folderName, 'Results', s1_FileName+'-'+s2_FileName+'.points')\n",
    "\n",
    "s1_input_raster = os.path.join(s1_FolderPath, s1_FileName + '-resampled-annotation.tif')\n",
    "s1_output_vector = os.path.join(s1_FolderPath, s1_FileName + '-resampled-vector.shp')\n",
    "s2_input_raster = os.path.join(s2_FolderPath, s2_FileName + '-resampled-annotation.tif')\n",
    "s2_output_vector = os.path.join(s2_FolderPath, s2_FileName + '-resampled-vector.shp')\n",
    "\n",
    "s1_vector_input_Path = os.path.join(s1_FolderPath,s1_FileName+'-resampled-vector.shp')\n",
    "s2_vector_input_Path = os.path.join(s2_FolderPath,s2_FileName+'-resampled-vector.shp')\n",
    "\n",
    "s1_centroids_transformed_path = os.path.join(s1_FolderPath,s1_FileName+'-centroids-transfromed.shp')\n",
    "s2_centroids_transformed_path = os.path.join(s2_FolderPath,s2_FileName+'-centroids-transfromed.shp')\n",
    "\n",
    "matched_features_path = os.path.join(folderName,'Results','matchedFeatures-'+s1_FileName+'-'+s2_FileName+'.json')\n",
    "matched_lines_path = os.path.join(folderName,'Results','matchedLines-'+s1_FileName+'-'+s2_FileName+'.shp')\n",
    "matched_lines_inliers_path = os.path.join(folderName,'Results','matchedLinesInliers-'+s1_FileName+'-'+s2_FileName+'.shp')\n",
    "add_matched_lines_inliers_path = os.path.join(folderName,'Results','addMatchedLinesInliers-'+s1_FileName+'-'+s2_FileName+'.shp')\n",
    "add_matched_features_path = os.path.join(folderName,'Results','addMatchedLinesInliers-'+s1_FileName+'-'+s2_FileName+'.json')\n",
    "\n",
    "downSampleFactor = 1 # Down sample factor e.g  use values 1, 2, 3 ...\n",
    "range_percentage = 0.25 # Percentage of the median of plot areas for selecting plots. It helps in removing noisy segmentations.\n",
    "crs = \"EPSG:4326\"\n",
    "min_Neighbors = 5 # minimum number of neighbors based on which distance threshold for the feature selection is calculated\n",
    "neighbor_percentile = 90 # percentile of centroids which contains min number of Neighbors\n",
    "gps_error = 8.0 # error in meters\n",
    "gps_error_dia = 2*gps_error # max allowable distance between two corresponding points from two sessions being matched\n",
    "\n",
    "angle_tolerance = 3 # Upper bound on angle difference beyond which match is not valid. Reduces the matched pairs\n",
    "dist_tolerance = 0.075 # Upper bound on distance difference beyond which match is not valid. Reduces the matched pairs\n",
    "\n",
    "bin_length_dist = 0.25 # defines distance window for identifying the peak from the histogram\n",
    "bin_length_brg = 15 # defines angle window for identifying the peak from the histogram"
   ]
  },
  {
   "cell_type": "markdown",
   "id": "c5bb52ad",
   "metadata": {},
   "source": [
    "## Downsample the orthomosaics (reference, sensed) for reducing segmentation computational complexity for SAM model"
   ]
  },
  {
   "cell_type": "code",
   "execution_count": 148,
   "id": "c842acd1",
   "metadata": {},
   "outputs": [],
   "source": [
    "s1_img_input_resampled = GeoUtils.resampledGeoTiff(s1_img_input, downSampleFactor)\n",
    "s2_img_input_resampled = GeoUtils.resampledGeoTiff(s2_img_input, downSampleFactor)\n",
    "s1_img_input_reprojected = GeoUtils.change_CRS_raster(s1_img_input_resampled, crs)\n",
    "s2_img_input_reprojected = GeoUtils.change_CRS_raster(s2_img_input_resampled, crs)"
   ]
  },
  {
   "cell_type": "markdown",
   "id": "524c64b2",
   "metadata": {},
   "source": [
    "## Segment the plots using Segment Anything Model"
   ]
  },
  {
   "cell_type": "code",
   "execution_count": 149,
   "id": "4ca374d4",
   "metadata": {},
   "outputs": [
    {
     "name": "stdout",
     "output_type": "stream",
     "text": [
      "Unique values saved to: Rice\\08-09-2023\\08-09-2023-resampled-annotation-summed.tif\n",
      "Unique values saved to: Rice\\22-09-2023\\22-09-2023-resampled-annotation-summed.tif\n"
     ]
    }
   ],
   "source": [
    "sam_kwargs = {\"points_per_side\": 32, \"pred_iou_thresh\": 0.85, \"stability_score_thresh\": 0.85,\n",
    "    \"crop_n_layers\": 0, \"crop_n_points_downscale_factor\": 1, \"min_mask_region_area\": 100}\n",
    "\n",
    "device = 'cuda' if torch.cuda.is_available() else 'cpu'\n",
    "sam = SamGeo(checkpoint=sam_model_path, model_type='vit_h', device=device, sam_kwargs=None)\n",
    "SegmentPlots.generateSegmentationMask(s1_img_input_resampled, sam, crs)\n",
    "SegmentPlots.generateSegmentationMask(s2_img_input_resampled, sam, crs)"
   ]
  },
  {
   "cell_type": "markdown",
   "id": "186fced8",
   "metadata": {},
   "source": [
    "# Convert the segmented polygons in the form of geo-raster to geo-spatial vector file format (shapefile)"
   ]
  },
  {
   "cell_type": "code",
   "execution_count": null,
   "id": "2ebc440e",
   "metadata": {},
   "outputs": [],
   "source": [
    "SegmentPlots.raster_to_polygon(s1_input_raster, s1_output_vector) \n",
    "SegmentPlots.raster_to_polygon(s2_input_raster, s2_output_vector)"
   ]
  },
  {
   "cell_type": "markdown",
   "id": "2b7e2338",
   "metadata": {},
   "source": [
    "# Identify and select the desired polygons while eliminating the noisy polygons based on the spatial dimensions"
   ]
  },
  {
   "cell_type": "code",
   "execution_count": 1,
   "id": "2843338f",
   "metadata": {},
   "outputs": [],
   "source": [
    "s1_selected_polygons = SegmentPlots.selectPolygons(s1_vector_input_Path, range_percentage)\n",
    "s2_selected_polygons = SegmentPlots.selectPolygons(s2_vector_input_Path, range_percentage)"
   ]
  },
  {
   "cell_type": "markdown",
   "id": "6250ff58",
   "metadata": {},
   "source": [
    "# Generate the centroids for the polygons"
   ]
  },
  {
   "cell_type": "code",
   "execution_count": 2,
   "id": "ddf50cac",
   "metadata": {},
   "outputs": [],
   "source": [
    "s1_centroids = SegmentPlots.generateCentroids(s1_selected_polygons, s1_vector_input_Path)\n",
    "s2_centroids = SegmentPlots.generateCentroids(s2_selected_polygons, s2_vector_input_Path)"
   ]
  },
  {
   "cell_type": "markdown",
   "id": "a79def81",
   "metadata": {},
   "source": [
    "# Compute feature descriptor for reference image"
   ]
  },
  {
   "cell_type": "code",
   "execution_count": 153,
   "id": "1dd0f8ed",
   "metadata": {},
   "outputs": [],
   "source": [
    "# Identify and drop rows with duplicate values in the 'coordinate' column\n",
    "s1_centroids = s1_centroids[~s1_centroids.duplicated(subset='geometry', keep='first')]\n",
    "# Reproject the centroids into the preferred crs e.g \"EPSG:4326\"\n",
    "s1_centroids_transformed = GeoUtils.transformCRS(s1_centroids, crs)\n",
    "# Sort the centroids based on latitude\n",
    "s1_centroids_transformed = GeoUtils.sortGeoDataframe(s1_centroids_transformed)\n",
    "# Assign id to each centroid\n",
    "s1_centroids_transformed['id'] = range(1, len(s1_centroids_transformed) + 1)\n",
    "# Calculate radius for defining the neighborhood of centroids\n",
    "dist_dict = GeoFeatures.getDistanceDictionary(s1_centroids_transformed)\n",
    "distanceThresholdNeighbors = GeoFeatures.getDistThresholdNeighbors(dist_dict, min_Neighbors, neighbor_percentile)\n",
    "s1_neighbor_dist = GeoFeatures.get_neighbor_distances(s1_centroids_transformed, distanceThresholdNeighbors)\n",
    "# Calculate feature vector for each feature (centroid)\n",
    "s1_featureDescriptor = GeoFeatures.get_feature_descriptor(s1_centroids_transformed,s1_neighbor_dist)\n",
    "# Append the feature descriptor to the geopandas dataframe\n",
    "s1_centroids_transformed = GeoFeatures.appendFeatureDescriptor(s1_centroids_transformed, s1_featureDescriptor) \n",
    "# Save the transformed centroid file\n",
    "s1_centroids_transformed.to_file(s1_centroids_transformed_path, driver='ESRI Shapefile')"
   ]
  },
  {
   "cell_type": "markdown",
   "id": "7fabbdaa",
   "metadata": {},
   "source": [
    "# Compute feature descriptor for sensed image"
   ]
  },
  {
   "cell_type": "code",
   "execution_count": 154,
   "id": "e5387770",
   "metadata": {},
   "outputs": [],
   "source": [
    "# Identify and drop rows with duplicate values in the 'coordinate' column\n",
    "s2_centroids = s2_centroids[~s2_centroids.duplicated(subset='geometry', keep='first')]\n",
    "# Reproject the centroids into the preferred crs e.g \"EPSG:4326\"\n",
    "s2_centroids_transformed = GeoUtils.transformCRS(s2_centroids, crs)\n",
    "# Sort the centroids based on latitude\n",
    "s2_centroids_transformed = GeoUtils.sortGeoDataframe(s2_centroids_transformed)\n",
    "# Assign id to each centroid\n",
    "s2_centroids_transformed['id'] = range(1, len(s2_centroids_transformed) + 1)\n",
    "s2_neighbor_dist = GeoFeatures.get_neighbor_distances(s2_centroids_transformed, distanceThresholdNeighbors)\n",
    "# Calculate radius for defining the neighborhood of centroids\n",
    "s2_featureDescriptor = GeoFeatures.get_feature_descriptor(s2_centroids_transformed,s2_neighbor_dist)\n",
    "# Append the feature descriptor to the geopandas dataframe\n",
    "s2_centroids_transformed = GeoFeatures.appendFeatureDescriptor(s2_centroids_transformed, s2_featureDescriptor) \n",
    "# Save the transformed centroid file\n",
    "s2_centroids_transformed.to_file(s2_centroids_transformed_path, driver='ESRI Shapefile')"
   ]
  },
  {
   "cell_type": "markdown",
   "id": "3d7be500",
   "metadata": {},
   "source": [
    "# Compute putative matches"
   ]
  },
  {
   "cell_type": "code",
   "execution_count": 3,
   "id": "09c52889",
   "metadata": {},
   "outputs": [],
   "source": [
    "matched_features = GeoFeatures.matchFeatures(s1_centroids_transformed, s2_centroids_transformed, gps_error_dia, angle_tolerance, dist_tolerance)\n",
    "# Remove entries with empty list\n",
    "matched_features = {key: value for key, value in matched_features.items() if value not in (None, [])}\n",
    "# Save the matches as dictionary to a JSON file\n",
    "with open(matched_features_path, 'w') as json_file:\n",
    "    json.dump(matched_features, json_file)\n",
    "    \n",
    "# Save the matches from a JSON file as dictionary    \n",
    "# with open(matched_features_path, 'r') as json_file:\n",
    "#     matched_features = json.load(json_file)\n",
    "\n",
    "# Draw lines between matched centroids (helpful for visualizations)\n",
    "matched_List = GeoFeatures.generateSrcToDstPointsList(s1_centroids_transformed, s2_centroids_transformed, matched_features)\n",
    "GeoFeatures.drawLinesMatchedPoints(matched_List, matched_lines_path, crs)"
   ]
  },
  {
   "cell_type": "markdown",
   "id": "57b06fd3",
   "metadata": {},
   "source": [
    "# Identify inliers and remove outliers"
   ]
  },
  {
   "cell_type": "code",
   "execution_count": 6,
   "id": "f5fe1d1f",
   "metadata": {},
   "outputs": [],
   "source": [
    "(distList, brgList) = GeoFeatures.getDistBearingList(matched_List)\n",
    "# Compute distance and angle windows for identifying peaks from distList and brgList\n",
    "thresholds = GeoFeatures.getDistBearingThresholds(distList, brgList, bin_length_dist, bin_length_brg)\n",
    "# Remove outliers based on the geometric transform\n",
    "matched_features_inliers = GeoFeatures.removeOutlierPoints(s1_centroids_transformed, s2_centroids_transformed, matched_features, thresholds)\n",
    "# Identify inliers\n",
    "matched_inliers_List = GeoFeatures.generateSrcToDstPointsList(s1_centroids_transformed, s2_centroids_transformed, matched_features_inliers)\n",
    "# Save inliers for visualizations\n",
    "GeoFeatures.drawLinesMatchedPoints(matched_inliers_List, matched_lines_inliers_path, crs)\n",
    "# Identify additional matches using the geometric orientation of the inliers\n",
    "add_match_thresholds = GeoFeatures.get_add_matches_theshold(matched_inliers_List)\n",
    "add_matched_inliers_dict = GeoFeatures.add_feature_matches(s1_centroids_transformed, s2_centroids_transformed, add_match_thresholds)\n",
    "add_matched_inliers_List = GeoFeatures.generateSrcToDstPointsList(s1_centroids_transformed, s2_centroids_transformed, add_matched_inliers_dict)\n",
    "# Save final matches for visualizations\n",
    "GeoFeatures.drawLinesMatchedPoints(add_matched_inliers_List, add_matched_lines_inliers_path, crs)\n",
    "\n",
    "# Save the final matches as dictionary to a JSON file\n",
    "with open(add_matched_features_path, 'w') as json_file:\n",
    "    json.dump(add_matched_inliers_dict, json_file)\n",
    "    \n",
    "# Read the final matches from a JSON file as dictionary    \n",
    "# with open(add_matched_features_path, 'r') as json_file:\n",
    "#     add_matched_inliers_dict = json.load(json_file)\n",
    "\n",
    "# Save the matched pair points in the form of ground control points (GCPs) suitable for georeferencing in QGIS\n",
    "GeoUtils.write_GCP_file(gcp_template_file_path, gcp_out_file, add_matched_inliers_List)"
   ]
  },
  {
   "cell_type": "code",
   "execution_count": 7,
   "id": "4df49c5a",
   "metadata": {},
   "outputs": [],
   "source": [
    "print(\"Number of initial matches: \" + str(len(matched_List)))\n",
    "print(\"Number of inliers: \" + str(len(matched_inliers_List)))\n",
    "print(\"Number of final matches: \" + str(len(add_matched_inliers_List)))"
   ]
  }
 ],
 "metadata": {
  "kernelspec": {
   "display_name": "Python 3 (ipykernel)",
   "language": "python",
   "name": "python3"
  },
  "language_info": {
   "codemirror_mode": {
    "name": "ipython",
    "version": 3
   },
   "file_extension": ".py",
   "mimetype": "text/x-python",
   "name": "python",
   "nbconvert_exporter": "python",
   "pygments_lexer": "ipython3",
   "version": "3.11.5"
  }
 },
 "nbformat": 4,
 "nbformat_minor": 5
}
